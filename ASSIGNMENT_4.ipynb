{
  "nbformat": 4,
  "nbformat_minor": 0,
  "metadata": {
    "colab": {
      "name": "ASSIGNMENT-4.ipynb",
      "provenance": [],
      "authorship_tag": "ABX9TyNBFvYNLQ4fw+5BvipX/5Oi",
      "include_colab_link": true
    },
    "kernelspec": {
      "name": "python3",
      "display_name": "Python 3"
    }
  },
  "cells": [
    {
      "cell_type": "markdown",
      "metadata": {
        "id": "view-in-github",
        "colab_type": "text"
      },
      "source": [
        "<a href=\"https://colab.research.google.com/github/Neeraja4716/AI-PE/blob/master/ASSIGNMENT_4.ipynb\" target=\"_parent\"><img src=\"https://colab.research.google.com/assets/colab-badge.svg\" alt=\"Open In Colab\"/></a>"
      ]
    },
    {
      "cell_type": "code",
      "metadata": {
        "id": "fbL5hLJs_Gn9",
        "colab_type": "code",
        "colab": {
          "base_uri": "https://localhost:8080/",
          "height": 1000
        },
        "outputId": "01f981a1-7afe-46d9-aaa9-2d1274130975"
      },
      "source": [
        "import numpy as np\n",
        "import pandas as pd\n",
        "sn=pd.read_csv('/Salary_Data.csv')\n",
        "x=sn.iloc[:,0:1]\n",
        "y=sn.iloc[:,1:2]\n",
        "xm=np.mean(x)\n",
        "ym=np.mean(y)\n",
        "xmm=[]\n",
        "ymm=[]\n",
        "\n",
        "for i in range(0,len(x)):\n",
        "  xmm.append(x.iloc[i]-xm)\n",
        "for j in range(0,len(y)):\n",
        "  ymm.append(y.iloc[j]-ym)\n",
        "xmm1=np.array(xmm)\n",
        "ymm1=np.array(ymm)\n",
        "sxmm1=xmm1**2\n",
        "mm=xmm1*ymm1\n",
        "print(sxmm1)\n",
        "print(mm)"
      ],
      "execution_count": 5,
      "outputs": [
        {
          "output_type": "stream",
          "text": [
            "[[1.77521778e+01]\n",
            " [1.61068444e+01]\n",
            " [1.45415111e+01]\n",
            " [1.09781778e+01]\n",
            " [9.69284444e+00]\n",
            " [5.82417778e+00]\n",
            " [5.35151111e+00]\n",
            " [4.46617778e+00]\n",
            " [4.46617778e+00]\n",
            " [2.60284444e+00]\n",
            " [1.99751111e+00]\n",
            " [1.72484444e+00]\n",
            " [1.72484444e+00]\n",
            " [1.47217778e+00]\n",
            " [6.61511111e-01]\n",
            " [1.70844444e-01]\n",
            " [4.55111111e-02]\n",
            " [1.77777778e-04]\n",
            " [3.44177778e-01]\n",
            " [4.71511111e-01]\n",
            " [2.21017778e+00]\n",
            " [3.19217778e+00]\n",
            " [6.69084444e+00]\n",
            " [8.33284444e+00]\n",
            " [1.14695111e+01]\n",
            " [1.35915111e+01]\n",
            " [1.75281778e+01]\n",
            " [1.83755111e+01]\n",
            " [2.48668444e+01]\n",
            " [2.69015111e+01]]\n",
            "[[ 1.54460800e+05]\n",
            " [ 1.19589307e+05]\n",
            " [ 1.45943893e+05]\n",
            " [ 1.07610440e+05]\n",
            " [ 1.12428693e+05]\n",
            " [ 4.67245467e+04]\n",
            " [ 3.66732733e+04]\n",
            " [ 4.55592400e+04]\n",
            " [ 2.44259067e+04]\n",
            " [ 3.03532533e+04]\n",
            " [ 1.80694667e+04]\n",
            " [ 2.65411533e+04]\n",
            " [ 2.50137467e+04]\n",
            " [ 2.29586933e+04]\n",
            " [ 1.21121600e+04]\n",
            " [ 3.33353333e+03]\n",
            " [ 2.12778667e+03]\n",
            " [-9.44666667e+01]\n",
            " [ 3.14453333e+03]\n",
            " [ 1.23167400e+04]\n",
            " [ 2.33927000e+04]\n",
            " [ 3.97890667e+04]\n",
            " [ 6.54400800e+04]\n",
            " [ 1.09141980e+05]\n",
            " [ 1.13209493e+05]\n",
            " [ 1.09047913e+05]\n",
            " [ 1.71510987e+05]\n",
            " [ 1.57029173e+05]\n",
            " [ 2.31321493e+05]\n",
            " [ 2.37907213e+05]]\n"
          ],
          "name": "stdout"
        }
      ]
    },
    {
      "cell_type": "code",
      "metadata": {
        "id": "XqpYZevhPwfB",
        "colab_type": "code",
        "colab": {
          "base_uri": "https://localhost:8080/",
          "height": 101
        },
        "outputId": "cc473f14-8f5a-448b-f2d4-f925b4029dea"
      },
      "source": [
        "smm=np.sum(mm)\n",
        "print(\"product sum=\",smm)\n",
        "sxm=np.sum(sxmm1)\n",
        "print(\"x-xm square sum=\",sxm)\n",
        "m=smm/sxm\n",
        "print(\"m=\",m)\n",
        "m1=np.array(m)\n",
        "xm1=np.array(xm)\n",
        "c=ym-(m1*xm1)\n",
        "print(\"c=\",c)"
      ],
      "execution_count": 25,
      "outputs": [
        {
          "output_type": "stream",
          "text": [
            "product sum= 2207082.8000000003\n",
            "x-xm square sum= 233.55466666666666\n",
            "m= 9449.962321455077\n",
            "c= Salary    25792.200199\n",
            "dtype: float64\n"
          ],
          "name": "stdout"
        }
      ]
    },
    {
      "cell_type": "code",
      "metadata": {
        "id": "2M8QLCYaV8Ij",
        "colab_type": "code",
        "colab": {
          "base_uri": "https://localhost:8080/",
          "height": 521
        },
        "outputId": "f631d381-4cf6-4038-b7ea-35b55e22a624"
      },
      "source": [
        "x=sn.iloc[:,0:1]\n",
        "yp=[]\n",
        "x1=np.array(x)\n",
        "c1=np.array(c)\n",
        "for i in range(0,len(x)):\n",
        "  yp=(m1*x1[i])+c1\n",
        "  print(yp)"
      ],
      "execution_count": 186,
      "outputs": [
        {
          "output_type": "stream",
          "text": [
            "[36114.1587526]\n",
            "[38004.15121689]\n",
            "[39894.14368118]\n",
            "[44619.12484191]\n",
            "[46509.1173062]\n",
            "[53124.09093122]\n",
            "[54069.08716337]\n",
            "[55959.07962766]\n",
            "[55959.07962766]\n",
            "[60684.06078838]\n",
            "[62574.05325267]\n",
            "[63519.04948482]\n",
            "[63519.04948482]\n",
            "[64464.04571697]\n",
            "[68244.03064555]\n",
            "[72024.01557413]\n",
            "[73914.00803842]\n",
            "[75804.00050271]\n",
            "[81473.97789558]\n",
            "[82418.97412773]\n",
            "[89978.94398489]\n",
            "[92813.93268133]\n",
            "[100373.9025385]\n",
            "[103208.89123493]\n",
            "[107933.87239566]\n",
            "[110768.8610921]\n",
            "[115493.84225282]\n",
            "[116438.83848497]\n",
            "[123053.81210999]\n",
            "[124943.80457428]\n"
          ],
          "name": "stdout"
        }
      ]
    },
    {
      "cell_type": "code",
      "metadata": {
        "id": "sIOV-HgjX8qY",
        "colab_type": "code",
        "colab": {
          "base_uri": "https://localhost:8080/",
          "height": 262
        },
        "outputId": "41f11940-c646-43c3-d106-925e9e11baa7"
      },
      "source": [
        "y=sn.iloc[:,1:2]\n",
        "yyp=[]\n",
        "y1=np.array(y)\n",
        "yp1=np.array(yp)\n",
        "for j in range(0,len(y)):\n",
        "  yyp=y1[j]-yp1[j]\n",
        "  syyp=yyp**2\n",
        "  print(yyp)\n",
        "  print(syyp)"
      ],
      "execution_count": 188,
      "outputs": [
        {
          "output_type": "stream",
          "text": [
            "[-85600.80457428]\n",
            "[7.32749774e+09]\n"
          ],
          "name": "stdout"
        },
        {
          "output_type": "error",
          "ename": "IndexError",
          "evalue": "ignored",
          "traceback": [
            "\u001b[0;31m---------------------------------------------------------------------------\u001b[0m",
            "\u001b[0;31mIndexError\u001b[0m                                Traceback (most recent call last)",
            "\u001b[0;32m<ipython-input-188-092ab486460d>\u001b[0m in \u001b[0;36m<module>\u001b[0;34m()\u001b[0m\n\u001b[1;32m      4\u001b[0m \u001b[0myp1\u001b[0m\u001b[0;34m=\u001b[0m\u001b[0mnp\u001b[0m\u001b[0;34m.\u001b[0m\u001b[0marray\u001b[0m\u001b[0;34m(\u001b[0m\u001b[0myp\u001b[0m\u001b[0;34m)\u001b[0m\u001b[0;34m\u001b[0m\u001b[0;34m\u001b[0m\u001b[0m\n\u001b[1;32m      5\u001b[0m \u001b[0;32mfor\u001b[0m \u001b[0mj\u001b[0m \u001b[0;32min\u001b[0m \u001b[0mrange\u001b[0m\u001b[0;34m(\u001b[0m\u001b[0;36m0\u001b[0m\u001b[0;34m,\u001b[0m\u001b[0mlen\u001b[0m\u001b[0;34m(\u001b[0m\u001b[0my\u001b[0m\u001b[0;34m)\u001b[0m\u001b[0;34m)\u001b[0m\u001b[0;34m:\u001b[0m\u001b[0;34m\u001b[0m\u001b[0;34m\u001b[0m\u001b[0m\n\u001b[0;32m----> 6\u001b[0;31m   \u001b[0myyp\u001b[0m\u001b[0;34m=\u001b[0m\u001b[0my1\u001b[0m\u001b[0;34m[\u001b[0m\u001b[0mj\u001b[0m\u001b[0;34m]\u001b[0m\u001b[0;34m-\u001b[0m\u001b[0myp1\u001b[0m\u001b[0;34m[\u001b[0m\u001b[0mj\u001b[0m\u001b[0;34m]\u001b[0m\u001b[0;34m\u001b[0m\u001b[0;34m\u001b[0m\u001b[0m\n\u001b[0m\u001b[1;32m      7\u001b[0m   \u001b[0msyyp\u001b[0m\u001b[0;34m=\u001b[0m\u001b[0myyp\u001b[0m\u001b[0;34m**\u001b[0m\u001b[0;36m2\u001b[0m\u001b[0;34m\u001b[0m\u001b[0;34m\u001b[0m\u001b[0m\n\u001b[1;32m      8\u001b[0m   \u001b[0mprint\u001b[0m\u001b[0;34m(\u001b[0m\u001b[0myyp\u001b[0m\u001b[0;34m)\u001b[0m\u001b[0;34m\u001b[0m\u001b[0;34m\u001b[0m\u001b[0m\n",
            "\u001b[0;31mIndexError\u001b[0m: index 1 is out of bounds for axis 0 with size 1"
          ]
        }
      ]
    },
    {
      "cell_type": "code",
      "metadata": {
        "id": "uCXeY-l0Yx7z",
        "colab_type": "code",
        "colab": {
          "base_uri": "https://localhost:8080/",
          "height": 34
        },
        "outputId": "f879c793-f091-4955-f104-08e764971cc8"
      },
      "source": [
        "mse1=np.sum(syyp)\n",
        "print(\"first itaration mean square=\",mse1)"
      ],
      "execution_count": 123,
      "outputs": [
        {
          "output_type": "stream",
          "text": [
            "first itaration mean square= 9435983.342557175\n"
          ],
          "name": "stdout"
        }
      ]
    },
    {
      "cell_type": "code",
      "metadata": {
        "id": "79Wv-MXAaFJX",
        "colab_type": "code",
        "colab": {
          "base_uri": "https://localhost:8080/",
          "height": 521
        },
        "outputId": "c0bd28c6-6224-4a72-eda7-f5fe14375ff2"
      },
      "source": [
        "x=sn.iloc[:,0:1]\n",
        "m= 9410.962321455077\n",
        "c= 25719.200199\n",
        "yp=[]\n",
        "x1=np.array(x)\n",
        "c1=np.array(c)\n",
        "for i in range(0,len(x)):\n",
        "  yp=(m1*x1[i])+c1\n",
        "  print(\"y predict value=\",yp)\n"
      ],
      "execution_count": 196,
      "outputs": [
        {
          "output_type": "stream",
          "text": [
            "y predict value= [36114.1587526]\n",
            "y predict value= [38004.15121689]\n",
            "y predict value= [39894.14368118]\n",
            "y predict value= [44619.12484191]\n",
            "y predict value= [46509.1173062]\n",
            "y predict value= [53124.09093122]\n",
            "y predict value= [54069.08716337]\n",
            "y predict value= [55959.07962766]\n",
            "y predict value= [55959.07962766]\n",
            "y predict value= [60684.06078838]\n",
            "y predict value= [62574.05325267]\n",
            "y predict value= [63519.04948482]\n",
            "y predict value= [63519.04948482]\n",
            "y predict value= [64464.04571697]\n",
            "y predict value= [68244.03064555]\n",
            "y predict value= [72024.01557413]\n",
            "y predict value= [73914.00803842]\n",
            "y predict value= [75804.00050271]\n",
            "y predict value= [81473.97789558]\n",
            "y predict value= [82418.97412773]\n",
            "y predict value= [89978.94398489]\n",
            "y predict value= [92813.93268133]\n",
            "y predict value= [100373.9025385]\n",
            "y predict value= [103208.89123493]\n",
            "y predict value= [107933.87239566]\n",
            "y predict value= [110768.8610921]\n",
            "y predict value= [115493.84225282]\n",
            "y predict value= [116438.83848497]\n",
            "y predict value= [123053.81210999]\n",
            "y predict value= [124943.80457428]\n"
          ],
          "name": "stdout"
        }
      ]
    },
    {
      "cell_type": "code",
      "metadata": {
        "id": "Zx2FRoUbt1IW",
        "colab_type": "code",
        "colab": {
          "base_uri": "https://localhost:8080/",
          "height": 246
        },
        "outputId": "ed88891e-707b-40ad-dcba-498144dcae99"
      },
      "source": [
        "y=sn.iloc[:,1:2]\n",
        "yyp=[]\n",
        "y1=np.array(y)\n",
        "yp1=np.array(yp)\n",
        "for j in range(0,len(y)):\n",
        "  yyp.append(y1[j]-yp1[j])\n",
        "  yyp1=np.array(yyp)\n",
        "  syyp=yyp1**2\n",
        "  print(\"square of y-yp=\",syyp)\n",
        "mse2=np.sum(syyp)\n",
        "print(\"second itaration mean square=\",mse2)"
      ],
      "execution_count": 198,
      "outputs": [
        {
          "output_type": "stream",
          "text": [
            "square of y-yp= [[7.32749774e+09]]\n"
          ],
          "name": "stdout"
        },
        {
          "output_type": "error",
          "ename": "IndexError",
          "evalue": "ignored",
          "traceback": [
            "\u001b[0;31m---------------------------------------------------------------------------\u001b[0m",
            "\u001b[0;31mIndexError\u001b[0m                                Traceback (most recent call last)",
            "\u001b[0;32m<ipython-input-198-a3ed453e092e>\u001b[0m in \u001b[0;36m<module>\u001b[0;34m()\u001b[0m\n\u001b[1;32m      4\u001b[0m \u001b[0myp1\u001b[0m\u001b[0;34m=\u001b[0m\u001b[0mnp\u001b[0m\u001b[0;34m.\u001b[0m\u001b[0marray\u001b[0m\u001b[0;34m(\u001b[0m\u001b[0myp\u001b[0m\u001b[0;34m)\u001b[0m\u001b[0;34m\u001b[0m\u001b[0;34m\u001b[0m\u001b[0m\n\u001b[1;32m      5\u001b[0m \u001b[0;32mfor\u001b[0m \u001b[0mj\u001b[0m \u001b[0;32min\u001b[0m \u001b[0mrange\u001b[0m\u001b[0;34m(\u001b[0m\u001b[0;36m0\u001b[0m\u001b[0;34m,\u001b[0m\u001b[0mlen\u001b[0m\u001b[0;34m(\u001b[0m\u001b[0my\u001b[0m\u001b[0;34m)\u001b[0m\u001b[0;34m)\u001b[0m\u001b[0;34m:\u001b[0m\u001b[0;34m\u001b[0m\u001b[0;34m\u001b[0m\u001b[0m\n\u001b[0;32m----> 6\u001b[0;31m   \u001b[0myyp\u001b[0m\u001b[0;34m.\u001b[0m\u001b[0mappend\u001b[0m\u001b[0;34m(\u001b[0m\u001b[0my1\u001b[0m\u001b[0;34m[\u001b[0m\u001b[0mj\u001b[0m\u001b[0;34m]\u001b[0m\u001b[0;34m-\u001b[0m\u001b[0myp1\u001b[0m\u001b[0;34m[\u001b[0m\u001b[0mj\u001b[0m\u001b[0;34m]\u001b[0m\u001b[0;34m)\u001b[0m\u001b[0;34m\u001b[0m\u001b[0;34m\u001b[0m\u001b[0m\n\u001b[0m\u001b[1;32m      7\u001b[0m   \u001b[0myyp1\u001b[0m\u001b[0;34m=\u001b[0m\u001b[0mnp\u001b[0m\u001b[0;34m.\u001b[0m\u001b[0marray\u001b[0m\u001b[0;34m(\u001b[0m\u001b[0myyp\u001b[0m\u001b[0;34m)\u001b[0m\u001b[0;34m\u001b[0m\u001b[0;34m\u001b[0m\u001b[0m\n\u001b[1;32m      8\u001b[0m   \u001b[0msyyp\u001b[0m\u001b[0;34m=\u001b[0m\u001b[0myyp1\u001b[0m\u001b[0;34m**\u001b[0m\u001b[0;36m2\u001b[0m\u001b[0;34m\u001b[0m\u001b[0;34m\u001b[0m\u001b[0m\n",
            "\u001b[0;31mIndexError\u001b[0m: index 1 is out of bounds for axis 0 with size 1"
          ]
        }
      ]
    },
    {
      "cell_type": "code",
      "metadata": {
        "id": "-Y8jEPw8bOGp",
        "colab_type": "code",
        "colab": {
          "base_uri": "https://localhost:8080/",
          "height": 750
        },
        "outputId": "5aaf58cf-1d26-4434-bdcb-496d12beb18d"
      },
      "source": [
        "x=sn.iloc[:,0:1]\n",
        "m= 9310.962321455077\n",
        "c= 25619.200199\n",
        "yp=[]\n",
        "x1=np.array(x)\n",
        "c1=np.array(c)\n",
        "for i in range(0,len(x)):\n",
        "  yp=(m1*x1[i])+c1\n",
        "  print(\"y predict value=\",yp)\n",
        "y=sn.iloc[:,1:2]\n",
        "yyp=[]\n",
        "y1=np.array(y)\n",
        "yp1=np.array(yp)\n",
        "for j in range(0,len(y)):\n",
        "  yyp.append(y1[j]-yp1[j])\n",
        "  yyp1=np.array(yyp)\n",
        "  syyp=(yyp1**2)\n",
        "  print(\"square of y-yp=\",syyp)\n",
        "mse3=np.sum(syyp)\n",
        "print(\"third itaration mean square=\",mse3)"
      ],
      "execution_count": 202,
      "outputs": [
        {
          "output_type": "stream",
          "text": [
            "y predict value= [36014.1587526]\n",
            "y predict value= [37904.15121689]\n",
            "y predict value= [39794.14368118]\n",
            "y predict value= [44519.12484191]\n",
            "y predict value= [46409.1173062]\n",
            "y predict value= [53024.09093122]\n",
            "y predict value= [53969.08716337]\n",
            "y predict value= [55859.07962766]\n",
            "y predict value= [55859.07962766]\n",
            "y predict value= [60584.06078838]\n",
            "y predict value= [62474.05325267]\n",
            "y predict value= [63419.04948482]\n",
            "y predict value= [63419.04948482]\n",
            "y predict value= [64364.04571697]\n",
            "y predict value= [68144.03064555]\n",
            "y predict value= [71924.01557413]\n",
            "y predict value= [73814.00803842]\n",
            "y predict value= [75704.00050271]\n",
            "y predict value= [81373.97789558]\n",
            "y predict value= [82318.97412773]\n",
            "y predict value= [89878.94398489]\n",
            "y predict value= [92713.93268133]\n",
            "y predict value= [100273.9025385]\n",
            "y predict value= [103108.89123493]\n",
            "y predict value= [107833.87239566]\n",
            "y predict value= [110668.8610921]\n",
            "y predict value= [115393.84225282]\n",
            "y predict value= [116338.83848497]\n",
            "y predict value= [122953.81210999]\n",
            "y predict value= [124843.80457428]\n",
            "square of y-yp= [[7.31038758e+09]]\n"
          ],
          "name": "stdout"
        },
        {
          "output_type": "error",
          "ename": "IndexError",
          "evalue": "ignored",
          "traceback": [
            "\u001b[0;31m---------------------------------------------------------------------------\u001b[0m",
            "\u001b[0;31mIndexError\u001b[0m                                Traceback (most recent call last)",
            "\u001b[0;32m<ipython-input-202-aedfd401a73b>\u001b[0m in \u001b[0;36m<module>\u001b[0;34m()\u001b[0m\n\u001b[1;32m     13\u001b[0m \u001b[0myp1\u001b[0m\u001b[0;34m=\u001b[0m\u001b[0mnp\u001b[0m\u001b[0;34m.\u001b[0m\u001b[0marray\u001b[0m\u001b[0;34m(\u001b[0m\u001b[0myp\u001b[0m\u001b[0;34m)\u001b[0m\u001b[0;34m\u001b[0m\u001b[0;34m\u001b[0m\u001b[0m\n\u001b[1;32m     14\u001b[0m \u001b[0;32mfor\u001b[0m \u001b[0mj\u001b[0m \u001b[0;32min\u001b[0m \u001b[0mrange\u001b[0m\u001b[0;34m(\u001b[0m\u001b[0;36m0\u001b[0m\u001b[0;34m,\u001b[0m\u001b[0mlen\u001b[0m\u001b[0;34m(\u001b[0m\u001b[0my\u001b[0m\u001b[0;34m)\u001b[0m\u001b[0;34m)\u001b[0m\u001b[0;34m:\u001b[0m\u001b[0;34m\u001b[0m\u001b[0;34m\u001b[0m\u001b[0m\n\u001b[0;32m---> 15\u001b[0;31m   \u001b[0myyp\u001b[0m\u001b[0;34m.\u001b[0m\u001b[0mappend\u001b[0m\u001b[0;34m(\u001b[0m\u001b[0my1\u001b[0m\u001b[0;34m[\u001b[0m\u001b[0mj\u001b[0m\u001b[0;34m]\u001b[0m\u001b[0;34m-\u001b[0m\u001b[0myp1\u001b[0m\u001b[0;34m[\u001b[0m\u001b[0mj\u001b[0m\u001b[0;34m]\u001b[0m\u001b[0;34m)\u001b[0m\u001b[0;34m\u001b[0m\u001b[0;34m\u001b[0m\u001b[0m\n\u001b[0m\u001b[1;32m     16\u001b[0m   \u001b[0myyp1\u001b[0m\u001b[0;34m=\u001b[0m\u001b[0mnp\u001b[0m\u001b[0;34m.\u001b[0m\u001b[0marray\u001b[0m\u001b[0;34m(\u001b[0m\u001b[0myyp\u001b[0m\u001b[0;34m)\u001b[0m\u001b[0;34m\u001b[0m\u001b[0;34m\u001b[0m\u001b[0m\n\u001b[1;32m     17\u001b[0m   \u001b[0msyyp\u001b[0m\u001b[0;34m=\u001b[0m\u001b[0;34m(\u001b[0m\u001b[0myyp1\u001b[0m\u001b[0;34m**\u001b[0m\u001b[0;36m2\u001b[0m\u001b[0;34m)\u001b[0m\u001b[0;34m\u001b[0m\u001b[0;34m\u001b[0m\u001b[0m\n",
            "\u001b[0;31mIndexError\u001b[0m: index 1 is out of bounds for axis 0 with size 1"
          ]
        }
      ]
    },
    {
      "cell_type": "code",
      "metadata": {
        "id": "yOz230SubPX6",
        "colab_type": "code",
        "colab": {
          "base_uri": "https://localhost:8080/",
          "height": 1000
        },
        "outputId": "578d55b8-c37c-43cc-da85-e60adcbb81fd"
      },
      "source": [
        "x=sn.iloc[:,0:1]\n",
        "m= 9120.962321455077\n",
        "c= 24719.200199\n",
        "yp=[]\n",
        "x1=np.array(x)\n",
        "c1=np.array(c)\n",
        "for i in range(0,len(x)):\n",
        "  yp=(m1*x1)+c1\n",
        "print(\"y predict value=\",yp)\n",
        "y=sn.iloc[:,1:2]\n",
        "yyp=[]\n",
        "y1=np.array(y)\n",
        "yp1=np.array(yp)\n",
        "for j in range(0,len(y)):\n",
        "  yyp=y1[j]-yp1[j]\n",
        "  syyp=yyp**2\n",
        "  print(\"square of y-yp=\",syyp)\n",
        "mse4=np.sum(syyp)\n",
        "print(\"Forth itaration mean square=\",mse4)"
      ],
      "execution_count": 150,
      "outputs": [
        {
          "output_type": "stream",
          "text": [
            "y predict value= [[ 35114.1587526 ]\n",
            " [ 37004.15121689]\n",
            " [ 38894.14368118]\n",
            " [ 43619.12484191]\n",
            " [ 45509.1173062 ]\n",
            " [ 52124.09093122]\n",
            " [ 53069.08716337]\n",
            " [ 54959.07962766]\n",
            " [ 54959.07962766]\n",
            " [ 59684.06078838]\n",
            " [ 61574.05325267]\n",
            " [ 62519.04948482]\n",
            " [ 62519.04948482]\n",
            " [ 63464.04571697]\n",
            " [ 67244.03064555]\n",
            " [ 71024.01557413]\n",
            " [ 72914.00803842]\n",
            " [ 74804.00050271]\n",
            " [ 80473.97789558]\n",
            " [ 81418.97412773]\n",
            " [ 88978.94398489]\n",
            " [ 91813.93268133]\n",
            " [ 99373.9025385 ]\n",
            " [102208.89123493]\n",
            " [106933.87239566]\n",
            " [109768.8610921 ]\n",
            " [114493.84225282]\n",
            " [115438.83848497]\n",
            " [122053.81210999]\n",
            " [123943.80457428]]\n",
            "square of y-yp= [17883098.29570666]\n",
            "square of y-yp= [84655618.32962729]\n",
            "square of y-yp= [1352903.22307504]\n",
            "square of y-yp= [8859.48586461]\n",
            "square of y-yp= [31563242.06623704]\n",
            "square of y-yp= [20411502.35376711]\n",
            "square of y-yp= [50139326.6000191]\n",
            "square of y-yp= [264277.86357119]\n",
            "square of y-yp= [89982685.31044625]\n",
            "square of y-yp= [6225328.33773033]\n",
            "square of y-yp= [2702560.90804111]\n",
            "square of y-yp= [45226290.5732819]\n",
            "square of y-yp= [30936394.47158986]\n",
            "square of y-yp= [40743272.62487558]\n",
            "square of y-yp= [37614064.89922898]\n",
            "square of y-yp= [9523492.12377218]\n",
            "square of y-yp= [47403335.6891204]\n",
            "square of y-yp= [68624647.67106919]\n",
            "square of y-yp= [790360.30213854]\n",
            "square of y-yp= [1.56776089e+08]\n",
            "square of y-yp= [7612390.09448974]\n",
            "square of y-yp= [41719550.62709734]\n",
            "square of y-yp= [3717559.8210616]\n",
            "square of y-yp= [1.34632133e+08]\n",
            "square of y-yp= [6235646.27236097]\n",
            "square of y-yp= [17529805.8045048]\n",
            "square of y-yp= [6126405.87340917]\n",
            "square of y-yp= [7861510.24979181]\n",
            "square of y-yp= [113695.67317121]\n",
            "square of y-yp= [4292374.19400055]\n",
            "Forth itaration mean square= 4292374.194000547\n"
          ],
          "name": "stdout"
        }
      ]
    },
    {
      "cell_type": "code",
      "metadata": {
        "id": "xEArZH5EbRKH",
        "colab_type": "code",
        "colab": {
          "base_uri": "https://localhost:8080/",
          "height": 1000
        },
        "outputId": "c9983046-adfc-4fa9-a784-00d56b72ca99"
      },
      "source": [
        "x=sn.iloc[:,0:1]\n",
        "m= 9320.662321455077\n",
        "c= 22700.0000\n",
        "yp=[]\n",
        "x1=np.array(x)\n",
        "c1=np.array(c)\n",
        "for i in range(0,len(x)):\n",
        "  yp=(m1*x1)+c1\n",
        "print(\"y predict value=\",yp)\n",
        "y=sn.iloc[:,1:2]\n",
        "yyp=[]\n",
        "y1=np.array(y)\n",
        "yp1=np.array(yp)\n",
        "for j in range(0,len(y)):\n",
        "  yyp=y1[j]-yp1[j]\n",
        "  syyp=yyp**2\n",
        "  print(\"square of y-yp=\",syyp)\n",
        "mse5=np.sum(syyp)\n",
        "print(\"fifth itaration mean square=\",mse5)"
      ],
      "execution_count": 155,
      "outputs": [
        {
          "output_type": "stream",
          "text": [
            "y predict value= [[ 33094.9585536 ]\n",
            " [ 34984.95101789]\n",
            " [ 36874.94348218]\n",
            " [ 41599.92464291]\n",
            " [ 43489.9171072 ]\n",
            " [ 50104.89073222]\n",
            " [ 51049.88696437]\n",
            " [ 52939.87942866]\n",
            " [ 52939.87942866]\n",
            " [ 57664.86058938]\n",
            " [ 59554.85305367]\n",
            " [ 60499.84928582]\n",
            " [ 60499.84928582]\n",
            " [ 61444.84551797]\n",
            " [ 65224.83044655]\n",
            " [ 69004.81537513]\n",
            " [ 70894.80783942]\n",
            " [ 72784.80030371]\n",
            " [ 78454.77769658]\n",
            " [ 79399.77392873]\n",
            " [ 86959.74378589]\n",
            " [ 89794.73248233]\n",
            " [ 97354.7023395 ]\n",
            " [100189.69103593]\n",
            " [104914.67219666]\n",
            " [107749.6608931 ]\n",
            " [112474.64205382]\n",
            " [113419.63828597]\n",
            " [120034.61191099]\n",
            " [121924.60437528]]\n",
            "square of y-yp= [39038021.91592491]\n",
            "square of y-yp= [1.25889499e+08]\n",
            "square of y-yp= [732832.76169763]\n",
            "square of y-yp= [3705915.13047459]\n",
            "square of y-yp= [12952204.34450522]\n",
            "square of y-yp= [42733797.57889884]\n",
            "square of y-yp= [82812057.26132989]\n",
            "square of y-yp= [2265387.93428214]\n",
            "square of y-yp= [1.32367799e+08]\n",
            "square of y-yp= [226443.30052869]\n",
            "square of y-yp= [13418645.55037164]\n",
            "square of y-yp= [22145017.50085552]\n",
            "square of y-yp= [12551781.06203748]\n",
            "square of y-yp= [19043147.70467031]\n",
            "square of y-yp= [16923600.94294409]\n",
            "square of y-yp= [1138095.04461351]\n",
            "square of y-yp= [23676085.93016975]\n",
            "square of y-yp= [1.06155924e+08]\n",
            "square of y-yp= [8457756.96608067]\n",
            "square of y-yp= [2.11418174e+08]\n",
            "square of y-yp= [22831732.4476375]\n",
            "square of y-yp= [71881020.10116045]\n",
            "square of y-yp= [15581158.82062738]\n",
            "square of y-yp= [1.85567302e+08]\n",
            "square of y-yp= [20397216.82722939]\n",
            "square of y-yp= [4698753.74745645]\n",
            "square of y-yp= [20199253.34836224]\n",
            "square of y-yp= [615657.23980797]\n",
            "square of y-yp= [5552564.82604087]\n",
            "square of y-yp= [2767.22029842]\n",
            "fifth itaration mean square= 2767.220298421827\n"
          ],
          "name": "stdout"
        }
      ]
    },
    {
      "cell_type": "code",
      "metadata": {
        "id": "_D20EDkSbR2y",
        "colab_type": "code",
        "colab": {
          "base_uri": "https://localhost:8080/",
          "height": 1000
        },
        "outputId": "1bde48ce-af7d-474d-c0bf-9c53d19042b1"
      },
      "source": [
        "x=sn.iloc[:,0:1]\n",
        "m= 9990.662321455077\n",
        "c= 22600.0000\n",
        "yp=[]\n",
        "x1=np.array(x)\n",
        "c1=np.array(c)\n",
        "for i in range(0,len(x)):\n",
        "  yp=(m1*x1)+c1\n",
        "print(\"y predict value=\",yp)\n",
        "y=sn.iloc[:,1:2]\n",
        "yyp=[]\n",
        "y1=np.array(y)\n",
        "yp1=np.array(yp)\n",
        "for j in range(0,len(y)):\n",
        "  yyp=y1[j]-yp1[j]\n",
        "  syyp=yyp**2\n",
        "  print(\"square of y-yp=\",syyp)\n",
        "mse6=np.sum(syyp)\n",
        "print(\"sixth itaration mean square=\",mse6)"
      ],
      "execution_count": 163,
      "outputs": [
        {
          "output_type": "stream",
          "text": [
            "y predict value= [[ 32994.9585536 ]\n",
            " [ 34884.95101789]\n",
            " [ 36774.94348218]\n",
            " [ 41499.92464291]\n",
            " [ 43389.9171072 ]\n",
            " [ 50004.89073222]\n",
            " [ 50949.88696437]\n",
            " [ 52839.87942866]\n",
            " [ 52839.87942866]\n",
            " [ 57564.86058938]\n",
            " [ 59454.85305367]\n",
            " [ 60399.84928582]\n",
            " [ 60399.84928582]\n",
            " [ 61344.84551797]\n",
            " [ 65124.83044655]\n",
            " [ 68904.81537513]\n",
            " [ 70794.80783942]\n",
            " [ 72684.80030371]\n",
            " [ 78354.77769658]\n",
            " [ 79299.77392873]\n",
            " [ 86859.74378589]\n",
            " [ 89694.73248233]\n",
            " [ 97254.7023395 ]\n",
            " [100089.69103593]\n",
            " [104814.67219666]\n",
            " [107649.6608931 ]\n",
            " [112374.64205382]\n",
            " [113319.63828597]\n",
            " [119934.61191099]\n",
            " [121824.60437528]]\n",
            "square of y-yp= [40297630.2052048]\n",
            "square of y-yp= [1.28143509e+08]\n",
            "square of y-yp= [914044.0652611]\n",
            "square of y-yp= [4100930.20189256]\n",
            "square of y-yp= [12242420.92306498]\n",
            "square of y-yp= [44051219.43245489]\n",
            "square of y-yp= [84642079.86845684]\n",
            "square of y-yp= [2576412.04855089]\n",
            "square of y-yp= [1.34678823e+08]\n",
            "square of y-yp= [141271.18265193]\n",
            "square of y-yp= [14161274.93963668]\n",
            "square of y-yp= [21213847.64369146]\n",
            "square of y-yp= [11853211.20487342]\n",
            "square of y-yp= [18180378.60107715]\n",
            "square of y-yp= [16110834.85363452]\n",
            "square of y-yp= [934731.96958753]\n",
            "square of y-yp= [22712924.36228557]\n",
            "square of y-yp= [1.08226564e+08]\n",
            "square of y-yp= [9049401.42676367]\n",
            "square of y-yp= [2.14336219e+08]\n",
            "square of y-yp= [23797383.69045859]\n",
            "square of y-yp= [73586673.60469423]\n",
            "square of y-yp= [16380618.35272835]\n",
            "square of y-yp= [1.88301763e+08]\n",
            "square of y-yp= [21310482.38789755]\n",
            "square of y-yp= [4275221.56883731]\n",
            "square of y-yp= [21108124.93759759]\n",
            "square of y-yp= [468729.58261422]\n",
            "square of y-yp= [6033842.44384341]\n",
            "square of y-yp= [2246.34524276]\n",
            "fifth itaration mean square= 2246.345242758772\n"
          ],
          "name": "stdout"
        }
      ]
    },
    {
      "cell_type": "code",
      "metadata": {
        "id": "uRgeXKg1bTJn",
        "colab_type": "code",
        "colab": {
          "base_uri": "https://localhost:8080/",
          "height": 1000
        },
        "outputId": "3954b57c-fb10-4891-8ece-38a05ad0c66d"
      },
      "source": [
        "x=sn.iloc[:,0:1]\n",
        "m= 9990.662321455077\n",
        "c= 22609.9900\n",
        "yp=[]\n",
        "x1=np.array(x)\n",
        "c1=np.array(c)\n",
        "for i in range(0,len(x)):\n",
        "  yp=(m1*x1)+c1\n",
        "print(\"y predict value=\",yp)\n",
        "y=sn.iloc[:,1:2]\n",
        "yyp=[]\n",
        "y1=np.array(y)\n",
        "yp1=np.array(yp)\n",
        "for j in range(0,len(y)):\n",
        "  yyp=y1[j]-yp1[j]\n",
        "  syyp=yyp**2\n",
        "  print(\"square of y-yp=\",syyp)\n",
        "mse7=np.sum(syyp)\n",
        "print(\"seventh itaration mean square=\",mse7)"
      ],
      "execution_count": 170,
      "outputs": [
        {
          "output_type": "stream",
          "text": [
            "y predict value= [[ 33004.9485536 ]\n",
            " [ 34894.94101789]\n",
            " [ 36784.93348218]\n",
            " [ 41509.91464291]\n",
            " [ 43399.9071072 ]\n",
            " [ 50014.88073222]\n",
            " [ 50959.87696437]\n",
            " [ 52849.86942866]\n",
            " [ 52849.86942866]\n",
            " [ 57574.85058938]\n",
            " [ 59464.84305367]\n",
            " [ 60409.83928582]\n",
            " [ 60409.83928582]\n",
            " [ 61354.83551797]\n",
            " [ 65134.82044655]\n",
            " [ 68914.80537513]\n",
            " [ 70804.79783942]\n",
            " [ 72694.79030371]\n",
            " [ 78364.76769658]\n",
            " [ 79309.76392873]\n",
            " [ 86869.73378589]\n",
            " [ 89704.72248233]\n",
            " [ 97264.6923395 ]\n",
            " [100099.68103593]\n",
            " [104824.66219666]\n",
            " [107659.6508931 ]\n",
            " [112384.63205382]\n",
            " [113329.62828597]\n",
            " [119944.60191099]\n",
            " [121834.59437528]]\n",
            "square of y-yp= [40170896.13720567]\n",
            "square of y-yp= [1.27917434e+08]\n",
            "square of y-yp= [895041.8561351]\n",
            "square of y-yp= [4060568.99635792]\n",
            "square of y-yp= [12312429.0869669]\n",
            "square of y-yp= [43918709.78938457]\n",
            "square of y-yp= [84458361.41010477]\n",
            "square of y-yp= [2544441.53963543]\n",
            "square of y-yp= [1.34447053e+08]\n",
            "square of y-yp= [148880.67732782]\n",
            "square of y-yp= [14086187.06374906]\n",
            "square of y-yp= [21305972.3125222]\n",
            "square of y-yp= [11922099.13370414]\n",
            "square of y-yp= [18265670.03462609]\n",
            "square of y-yp= [16191130.98605653]\n",
            "square of y-yp= [954148.74088264]\n",
            "square of y-yp= [22808245.00301725]\n",
            "square of y-yp= [1.08018808e+08]\n",
            "square of y-yp= [8989396.94524141]\n",
            "square of y-yp= [2.14043808e+08]\n",
            "square of y-yp= [23700015.93140086]\n",
            "square of y-yp= [73415379.61979112]\n",
            "square of y-yp= [16299853.14557142]\n",
            "square of y-yp= [1.88027691e+08]\n",
            "square of y-yp= [21218347.95848675]\n",
            "square of y-yp= [4316633.23358139]\n",
            "square of y-yp= [21016429.46593293]\n",
            "square of y-yp= [482508.45566788]\n",
            "square of y-yp= [5984863.60992491]\n",
            "square of y-yp= [1399.18076082]\n",
            "seventh itaration mean square= 1399.1807608191195\n"
          ],
          "name": "stdout"
        }
      ]
    },
    {
      "cell_type": "code",
      "metadata": {
        "id": "Ryhsp6TgbTpi",
        "colab_type": "code",
        "colab": {
          "base_uri": "https://localhost:8080/",
          "height": 1000
        },
        "outputId": "c0cbd959-ce63-4906-c779-c2bf7c853a2c"
      },
      "source": [
        "x=sn.iloc[:,0:1]\n",
        "m= 9990.662321455077\n",
        "c= 22619.9900\n",
        "yp=[]\n",
        "x1=np.array(x)\n",
        "c1=np.array(c)\n",
        "for i in range(0,len(x)):\n",
        "  yp=(m1*x1)+c1\n",
        "print(\"y predict value=\",yp)\n",
        "y=sn.iloc[:,1:2]\n",
        "yyp=[]\n",
        "y1=np.array(y)\n",
        "yp1=np.array(yp)\n",
        "for j in range(0,len(y)):\n",
        "  yyp=y1[j]-yp1[j]\n",
        "  syyp=yyp**2\n",
        "  print(\"square of y-yp=\",syyp)\n",
        "mse8=np.sum(syyp)\n",
        "print(\"eight itaration mean square=\",mse8)"
      ],
      "execution_count": 169,
      "outputs": [
        {
          "output_type": "stream",
          "text": [
            "y predict value= [[ 33014.9485536 ]\n",
            " [ 34904.94101789]\n",
            " [ 36794.93348218]\n",
            " [ 41519.91464291]\n",
            " [ 43409.9071072 ]\n",
            " [ 50024.88073222]\n",
            " [ 50969.87696437]\n",
            " [ 52859.86942866]\n",
            " [ 52859.86942866]\n",
            " [ 57584.85058938]\n",
            " [ 59474.84305367]\n",
            " [ 60419.83928582]\n",
            " [ 60419.83928582]\n",
            " [ 61364.83551797]\n",
            " [ 65144.82044655]\n",
            " [ 68924.80537513]\n",
            " [ 70814.79783942]\n",
            " [ 72704.79030371]\n",
            " [ 78374.76769658]\n",
            " [ 79319.76392873]\n",
            " [ 86879.73378589]\n",
            " [ 89714.72248233]\n",
            " [ 97274.6923395 ]\n",
            " [100109.68103593]\n",
            " [104834.66219666]\n",
            " [107669.6508931 ]\n",
            " [112394.63205382]\n",
            " [113339.62828597]\n",
            " [119954.60191099]\n",
            " [121844.59437528]]\n",
            "square of y-yp= [40044235.10827768]\n",
            "square of y-yp= [1.27691333e+08]\n",
            "square of y-yp= [876220.52577876]\n",
            "square of y-yp= [4020367.28921612]\n",
            "square of y-yp= [12382707.22911092]\n",
            "square of y-yp= [43786267.40402897]\n",
            "square of y-yp= [84274658.94939207]\n",
            "square of y-yp= [2512638.92820855]\n",
            "square of y-yp= [1.3421525e+08]\n",
            "square of y-yp= [156697.68911549]\n",
            "square of y-yp= [14011223.92482255]\n",
            "square of y-yp= [21398389.0982386]\n",
            "square of y-yp= [11991255.91942055]\n",
            "square of y-yp= [18351246.7449854]\n",
            "square of y-yp= [16271707.39498748]\n",
            "square of y-yp= [973784.84838524]\n",
            "square of y-yp= [22903860.95980567]\n",
            "square of y-yp= [1.07811044e+08]\n",
            "square of y-yp= [8929532.29917311]\n",
            "square of y-yp= [2.13751303e+08]\n",
            "square of y-yp= [23602750.60711875]\n",
            "square of y-yp= [73244114.06943774]\n",
            "square of y-yp= [16219206.99236133]\n",
            "square of y-yp= [1.87753545e+08]\n",
            "square of y-yp= [21126321.20241994]\n",
            "square of y-yp= [4358286.2514433]\n",
            "square of y-yp= [20924842.1070094]\n",
            "square of y-yp= [496501.02138726]\n",
            "square of y-yp= [5936035.64814466]\n",
            "square of y-yp= [751.06826639]\n",
            "eight itaration mean square= 751.0682663855299\n"
          ],
          "name": "stdout"
        }
      ]
    },
    {
      "cell_type": "code",
      "metadata": {
        "id": "x2TvQ2MLbUJP",
        "colab_type": "code",
        "colab": {
          "base_uri": "https://localhost:8080/",
          "height": 1000
        },
        "outputId": "43198d34-a976-4e41-bb51-70fa602c47e7"
      },
      "source": [
        "x=sn.iloc[:,0:1]\n",
        "m= 5980.662321455077\n",
        "c= 21619.9900\n",
        "yp=[]\n",
        "x1=np.array(x)\n",
        "c1=np.array(c)\n",
        "for i in range(0,len(x)):\n",
        "  yp=(m1*x1)+c1\n",
        "print(\"y predict value=\",yp)\n",
        "y=sn.iloc[:,1:2]\n",
        "yyp=[]\n",
        "y1=np.array(y)\n",
        "yp1=np.array(yp)\n",
        "for j in range(0,len(y)):\n",
        "  yyp=y1[j]-yp1[j]\n",
        "  syyp=yyp**2\n",
        "  print(\"square of y-yp=\",syyp)\n",
        "mse9=np.sum(syyp)\n",
        "print(\"nineth itaration mean square=\",mse9)"
      ],
      "execution_count": 179,
      "outputs": [
        {
          "output_type": "stream",
          "text": [
            "y predict value= [[ 32014.9485536 ]\n",
            " [ 33904.94101789]\n",
            " [ 35794.93348218]\n",
            " [ 40519.91464291]\n",
            " [ 42409.9071072 ]\n",
            " [ 49024.88073222]\n",
            " [ 49969.87696437]\n",
            " [ 51859.86942866]\n",
            " [ 51859.86942866]\n",
            " [ 56584.85058938]\n",
            " [ 58474.84305367]\n",
            " [ 59419.83928582]\n",
            " [ 59419.83928582]\n",
            " [ 60364.83551797]\n",
            " [ 64144.82044655]\n",
            " [ 67924.80537513]\n",
            " [ 69814.79783942]\n",
            " [ 71704.79030371]\n",
            " [ 77374.76769658]\n",
            " [ 78319.76392873]\n",
            " [ 85879.73378589]\n",
            " [ 88714.72248233]\n",
            " [ 96274.6923395 ]\n",
            " [ 99109.68103593]\n",
            " [103834.66219666]\n",
            " [106669.6508931 ]\n",
            " [111394.63205382]\n",
            " [112339.62828597]\n",
            " [118954.60191099]\n",
            " [120844.59437528]]\n",
            "square of y-yp= [53700338.0010765]\n",
            "square of y-yp= [1.51291451e+08]\n",
            "square of y-yp= [3748353.56141352]\n",
            "square of y-yp= [9030538.00339581]\n",
            "square of y-yp= [6344893.01470858]\n",
            "square of y-yp= [58020505.93958952]\n",
            "square of y-yp= [1.03634905e+08]\n",
            "square of y-yp= [6682900.07089605]\n",
            "square of y-yp= [1.58385511e+08]\n",
            "square of y-yp= [364996.51034792]\n",
            "square of y-yp= [22497537.81747294]\n",
            "square of y-yp= [13146710.52659797]\n",
            "square of y-yp= [6065577.34777992]\n",
            "square of y-yp= [10783575.70905378]\n",
            "square of y-yp= [9204066.50189179]\n",
            "square of y-yp= [174.09812546]\n",
            "square of y-yp= [14332265.28096389]\n",
            "square of y-yp= [1.29577463e+08]\n",
            "square of y-yp= [15905996.90600317]\n",
            "square of y-yp= [2.43991775e+08]\n",
            "square of y-yp= [34319283.0353297]\n",
            "square of y-yp= [91360669.10477564]\n",
            "square of y-yp= [25273822.3133711]\n",
            "square of y-yp= [2.16158183e+08]\n",
            "square of y-yp= [31318996.80910158]\n",
            "square of y-yp= [1182984.46525189]\n",
            "square of y-yp= [31073577.99936292]\n",
            "square of y-yp= [87244.44944976]\n",
            "square of y-yp= [11808831.82617003]\n",
            "square of y-yp= [1055562.31770974]\n",
            "nineth itaration mean square= 1055562.3177097444\n"
          ],
          "name": "stdout"
        }
      ]
    },
    {
      "cell_type": "code",
      "metadata": {
        "id": "Kf7PjcmseFgv",
        "colab_type": "code",
        "colab": {
          "base_uri": "https://localhost:8080/",
          "height": 1000
        },
        "outputId": "d1c785e4-1473-4610-a091-2eb57a6f5f40"
      },
      "source": [
        "x=sn.iloc[:,0:1]\n",
        "m= 5980.662321455077\n",
        "c= 21619.9900\n",
        "yp=[]\n",
        "x1=np.array(x)\n",
        "c1=np.array(c)\n",
        "for i in range(0,len(x)):\n",
        "  yp=(m1*x1)+c1\n",
        "print(\"y predict value=\",yp)\n",
        "y=sn.iloc[:,1:2]\n",
        "yyp=[]\n",
        "y1=np.array(y)\n",
        "yp1=np.array(yp)\n",
        "for j in range(0,len(y)):\n",
        "  yyp=y1[j]-yp1[j]\n",
        "  syyp=yyp**2\n",
        "  print(\"square of y-yp=\",syyp)\n",
        "mse10=np.sum(syyp)\n",
        "print(\"tenth itaration mean square=\",mse10)"
      ],
      "execution_count": 110,
      "outputs": [
        {
          "output_type": "stream",
          "text": [
            "y predict value= [[ 33490.9575735 ]\n",
            " [ 35380.95003779]\n",
            " [ 37270.94250208]\n",
            " [ 41995.92366281]\n",
            " [ 43885.9161271 ]\n",
            " [ 50500.88975212]\n",
            " [ 51445.88598427]\n",
            " [ 53335.87844856]\n",
            " [ 53335.87844856]\n",
            " [ 58060.85960928]\n",
            " [ 59950.85207357]\n",
            " [ 60895.84830572]\n",
            " [ 60895.84830572]\n",
            " [ 61840.84453787]\n",
            " [ 65620.82946645]\n",
            " [ 69400.81439503]\n",
            " [ 71290.80685932]\n",
            " [ 73180.79932361]\n",
            " [ 78850.77671648]\n",
            " [ 79795.77294863]\n",
            " [ 87355.74280579]\n",
            " [ 90190.73150223]\n",
            " [ 97750.7013594 ]\n",
            " [100585.69005583]\n",
            " [105310.67121656]\n",
            " [108145.659913  ]\n",
            " [112870.64107372]\n",
            " [113815.63730587]\n",
            " [120430.61093089]\n",
            " [122320.60339518]]\n",
            "square of y-yp= [34246400.56154916]\n",
            "square of y-yp= [1.17160058e+08]\n",
            "square of y-yp= [211652.90139]\n",
            "square of y-yp= [2338074.44495393]\n",
            "square of y-yp= [15959354.862573]\n",
            "square of y-yp= [37713235.07662018]\n",
            "square of y-yp= [75761600.79891045]\n",
            "square of y-yp= [1230150.61587699]\n",
            "square of y-yp= [1.23412582e+08]\n",
            "square of y-yp= [760139.17830047]\n",
            "square of y-yp= [10674255.57314447]\n",
            "square of y-yp= [26028856.13458122]\n",
            "square of y-yp= [15514525.97547577]\n",
            "square of y-yp= [22656120.02465096]\n",
            "square of y-yp= [20338561.81644126]\n",
            "square of y-yp= [2139825.95430664]\n",
            "square of y-yp= [27686611.42479635]\n",
            "square of y-yp= [98152625.24222468]\n",
            "square of y-yp= [6311265.82623507]\n",
            "square of y-yp= [2.00059159e+08]\n",
            "square of y-yp= [19204178.11616567]\n",
            "square of y-yp= [65323064.07002835]\n",
            "square of y-yp= [12611722.03476212]\n",
            "square of y-yp= [1.74935275e+08]\n",
            "square of y-yp= [16977109.28365095]\n",
            "square of y-yp= [6572352.14950114]\n",
            "square of y-yp= [16796545.88859243]\n",
            "square of y-yp= [1393904.44800901]\n",
            "square of y-yp= [3843125.30229651]\n",
            "square of y-yp= [201245.00616551]\n",
            "tenth itaration mean square= 201245.00616551365\n"
          ],
          "name": "stdout"
        }
      ]
    },
    {
      "cell_type": "code",
      "metadata": {
        "id": "ujDIrBt-eFkJ",
        "colab_type": "code",
        "colab": {
          "base_uri": "https://localhost:8080/",
          "height": 307
        },
        "outputId": "821508e2-84d9-4542-921a-ee3690012283"
      },
      "source": [
        "import matplotlib.pyplot as plt\n",
        "x=[1,2,3,4,5,6,7,8,9]\n",
        "y=[]\n",
        "plt.xlabel(\"Itrations\")\n",
        "plt.ylabel(\"Error rates\")\n",
        "plt.plot(x,y,'c')\n",
        "s=min(y)\n",
        "print(s)"
      ],
      "execution_count": 66,
      "outputs": [
        {
          "output_type": "stream",
          "text": [
            "9627396.226162432\n"
          ],
          "name": "stdout"
        },
        {
          "output_type": "display_data",
          "data": {
            "image/png": "[encoded data removed]",
            "text/plain": [
              "<Figure size 432x288 with 1 Axes>"
            ]
          },
          "metadata": {
            "tags": [],
            "needs_background": "light"
          }
        }
      ]
    }
  ]
}