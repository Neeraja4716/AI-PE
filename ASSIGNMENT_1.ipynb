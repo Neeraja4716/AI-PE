{
  "nbformat": 4,
  "nbformat_minor": 0,
  "metadata": {
    "colab": {
      "name": "ASSIGNMENT-1.ipynb",
      "provenance": [],
      "authorship_tag": "ABX9TyOvZWJwJbpGCofrFvwUxCTO",
      "include_colab_link": true
    },
    "kernelspec": {
      "name": "python3",
      "display_name": "Python 3"
    }
  },
  "cells": [
    {
      "cell_type": "markdown",
      "metadata": {
        "id": "view-in-github",
        "colab_type": "text"
      },
      "source": [
        "<a href=\"https://colab.research.google.com/github/Neeraja4716/AI-PE/blob/master/ASSIGNMENT_1.ipynb\" target=\"_parent\"><img src=\"https://colab.research.google.com/assets/colab-badge.svg\" alt=\"Open In Colab\"/></a>"
      ]
    },
    {
      "cell_type": "markdown",
      "metadata": {
        "id": "EuY7-MUeF7rd",
        "colab_type": "text"
      },
      "source": [
        "1.\tDevelop a code for scenario for \n",
        " if year%12->0=monkey\n",
        "           ->1=rooster\n",
        "           ->2=dog\n",
        "           ->3=pig\n",
        "           ->4=rat\n",
        "           ->5=ox\n",
        "           ->6=tiger\n",
        "           ->7=rabbit\n",
        "           ->8=dragon\n",
        "           ->9=snake\n",
        "           ->10=horse\n",
        "           ->11=sheep       "
      ]
    },
    {
      "cell_type": "code",
      "metadata": {
        "id": "7lziO73wR7zB",
        "colab_type": "code",
        "colab": {
          "base_uri": "https://localhost:8080/",
          "height": 50
        },
        "outputId": "c7f67880-9539-4174-f90e-bcee70df2611"
      },
      "source": [
        "year=int(input(\"enter year for zodiac sign\"))\n",
        "if year%12==0:\n",
        "  print(\"monkey\")\n",
        "elif year%12==1:\n",
        "  print(\"rooster\")\n",
        "elif year%12==2:\n",
        "  print(\"dog\")\n",
        "elif year%12==3:\n",
        "  print(\"pig\")\n",
        "elif year%12==4:\n",
        "  print(\"rat\")\n",
        "elif year%12==5:\n",
        "  print(\"ox\")\n",
        "elif year%12==6:\n",
        "  print(\"tiger\")\n",
        "elif year%12==7:\n",
        "  print(\"rabbit\")\n",
        "elif year%12==8:\n",
        "  print(\"dragon\")\n",
        "elif year%12==9:\n",
        "  print(\"snake\")\n",
        "elif year%12==10:\n",
        "  print(\"horse\")\n",
        "elif year%12==11:\n",
        "  print(\"sheep\")"
      ],
      "execution_count": null,
      "outputs": [
        {
          "output_type": "stream",
          "text": [
            "enter year for zodiac sign2000\n",
            "dragon\n"
          ],
          "name": "stdout"
        }
      ]
    },
    {
      "cell_type": "markdown",
      "metadata": {
        "id": "wnoMBOwyIMH0",
        "colab_type": "text"
      },
      "source": [
        "2.develop an application for calculating amount based on distance and weight of goods"
      ]
    },
    {
      "cell_type": "code",
      "metadata": {
        "id": "RqQPPjqGIJQC",
        "colab_type": "code",
        "colab": {}
      },
      "source": [
        "d=int(input(\"enter the distance\"))\n",
        "wt=int(input(\"enter weight\"))\n",
        "if d>=500:\n",
        "  if wt>=100:\n",
        "    amount=5*d\n",
        "  elif wt>=10 and wt<100:\n",
        "    amount=6*d\n",
        "  else:\n",
        "    amount=7*d\n",
        "else:\n",
        "  if wt>=100:\n",
        "    amount=8*d\n",
        "  else:\n",
        "    amount=5*d\n",
        "print(\"amount to be charged\",amount)"
      ],
      "execution_count": null,
      "outputs": []
    },
    {
      "cell_type": "markdown",
      "metadata": {
        "id": "IY-UtXjtI9xz",
        "colab_type": "text"
      },
      "source": [
        "3.A theater in Delhi wants to develop a computerized Booking System. The theater offers different types of seats. The Ticket rates are- Stalls- Rs. 625/-, Circle- Rs.750/-, Upper Class- Rs.850/- and Box- Rs.1000/-. A discount is given 10% of total amount if tickets are purchased on Cash. In case of credit card holders 5% discount is given. "
      ]
    },
    {
      "cell_type": "code",
      "metadata": {
        "id": "KbKk-bIiTdXw",
        "colab_type": "code",
        "colab": {
          "base_uri": "https://localhost:8080/",
          "height": 67
        },
        "outputId": "7e311d4c-e658-4d5a-fc9a-14eb047bb545"
      },
      "source": [
        "tseat=input(\"enter the type of seat\")\n",
        "money=input(\"enter the payment mode\")\n",
        "if money==\"cash\":\n",
        "  if tseat==\"stalls\":\n",
        "    print(625-625*0.1)\n",
        "  elif tseat==\"circle\":\n",
        "    print(750-750*0.1)\n",
        "  elif tseat==\"upperdeck\":\n",
        "    print(850-850*0.1)\n",
        "  else:\n",
        "    print(1000-1000*0.1)\n",
        "else:\n",
        "  if tseat==\"stalls\":\n",
        "    print(625-625*0.5)\n",
        "  elif tseat==\"circle\":\n",
        "    print(750-750*0.5)\n",
        "  elif tseat==\"upperdeck\":\n",
        "    print(850-850*0.5)\n",
        "  else:\n",
        "    print(1000-1000*0.5)"
      ],
      "execution_count": null,
      "outputs": [
        {
          "output_type": "stream",
          "text": [
            "enter the type of seatcircle\n",
            "enter the payment modecash\n",
            "675.0\n"
          ],
          "name": "stdout"
        }
      ]
    },
    {
      "cell_type": "markdown",
      "metadata": {
        "id": "7kKfSoERJQP2",
        "colab_type": "text"
      },
      "source": [
        "4.\tDevelop a program that calculates the energy needed to heat water from an initial temperature to a final temperature. "
      ]
    },
    {
      "cell_type": "code",
      "metadata": {
        "id": "BI4Q4f8OV-SB",
        "colab_type": "code",
        "colab": {
          "base_uri": "https://localhost:8080/",
          "height": 84
        },
        "outputId": "fc3cdacf-1c10-4b33-b5a2-c01a9bdf499c"
      },
      "source": [
        "IT=int(input(\"enter the intial temperature\"))\n",
        "FT=int(input(\"enter the fi nal temperature\"))\n",
        "water=int(input(\"enter the amount of water in kg\"))\n",
        "E=water*(FT-IT)*4184\n",
        "print(E)"
      ],
      "execution_count": null,
      "outputs": [
        {
          "output_type": "stream",
          "text": [
            "enter the intial temperature20\n",
            "enter the fi nal temperature48\n",
            "enter the amount of water in kg20\n",
            "2343040\n"
          ],
          "name": "stdout"
        }
      ]
    },
    {
      "cell_type": "markdown",
      "metadata": {
        "id": "bfxuewKyJckS",
        "colab_type": "text"
      },
      "source": [
        "5.\tDevelop a program that prompts user to enter month and  print \n",
        "a.\t“Winter ” -   December ,January and February\n",
        "b.\t“Spring”  -   March ,April and May\n",
        "c.\t“Summer”  --- June ,July, August\n",
        "d.\t“Autumn ”  -- September ,October, November\n"
      ]
    },
    {
      "cell_type": "code",
      "metadata": {
        "id": "qZe790H6XJR2",
        "colab_type": "code",
        "colab": {
          "base_uri": "https://localhost:8080/",
          "height": 50
        },
        "outputId": "ec684530-9c57-4edf-ad58-e99a844f162a"
      },
      "source": [
        "month=input(\"enter month\")\n",
        "if month in (\"December\",\"January\",\"February\"):\n",
        "  print(\"winter\")\n",
        "elif month in (\"March\",\"April\",\"May\"):\n",
        "  print(\"spring\")\n",
        "elif month in (\"June\",\"July\",\"August\"):\n",
        "  print(\"summer\")\n",
        "else:\n",
        "  print(\"autumn\")\n"
      ],
      "execution_count": null,
      "outputs": [
        {
          "output_type": "stream",
          "text": [
            "enter monthMarch\n",
            "spring\n"
          ],
          "name": "stdout"
        }
      ]
    },
    {
      "cell_type": "markdown",
      "metadata": {
        "id": "4L2Bund1Kp9d",
        "colab_type": "text"
      },
      "source": [
        "6. Write the program that promote the user to enter a weight in pounds and height in inches and displays the Body Mass Index"
      ]
    },
    {
      "cell_type": "code",
      "metadata": {
        "id": "MpoQ8mlaUSC3",
        "colab_type": "code",
        "colab": {
          "base_uri": "https://localhost:8080/",
          "height": 84
        },
        "outputId": "7145f612-ce67-4dc4-d844-6bae6ad52904"
      },
      "source": [
        "weight=float(input(\"enter the weight in pounds\"))\n",
        "height=float(input(\"enter the height in inches\"))\n",
        "wt=weight*0.45359237\n",
        "ht=height*0.025\n",
        "BMI=wt/ht*ht\n",
        "print(BMI)\n",
        "if (BMI<18.5):\n",
        "  print(\"underweight\")\n",
        "elif (18.5<=BMI<25.0):\n",
        "  print(\"normal\")\n",
        "elif (25.0<=BMI<30.0):\n",
        "  print(\"overweight\")\n",
        "else:\n",
        "  print(\"obese\")"
      ],
      "execution_count": null,
      "outputs": [
        {
          "output_type": "stream",
          "text": [
            "enter the weight in pounds50\n",
            "enter the height in inches29\n",
            "22.6796185\n",
            "normal\n"
          ],
          "name": "stdout"
        }
      ]
    },
    {
      "cell_type": "markdown",
      "metadata": {
        "id": "PEgya21YWNDA",
        "colab_type": "text"
      },
      "source": [
        "7.\tWrite a program that reads an integer between 100 and 1000 and adds all the digits in the integer \t(\tex: input 745 \t# output =16\t(7+4+5)\t)"
      ]
    },
    {
      "cell_type": "code",
      "metadata": {
        "id": "Cxz2nbgGWUX7",
        "colab_type": "code",
        "colab": {
          "base_uri": "https://localhost:8080/",
          "height": 50
        },
        "outputId": "b242546b-55b0-4bb6-85aa-fa882d6902d1"
      },
      "source": [
        "n=int(input(\"enter number\"))\n",
        "rem=0\n",
        "sdit=0\n",
        "if n>=100 and n<=1000:\n",
        "  while n>0:\n",
        "    rem=n%10\n",
        "    sdit=sdit+rem\n",
        "    n=n//10\n",
        "print(sdit)"
      ],
      "execution_count": null,
      "outputs": [
        {
          "output_type": "stream",
          "text": [
            "enter number789\n",
            "24\n"
          ],
          "name": "stdout"
        }
      ]
    },
    {
      "cell_type": "markdown",
      "metadata": {
        "id": "aX4sficNXY4F",
        "colab_type": "text"
      },
      "source": [
        "8.\tPrint all palindrome numbers between 1 to 1000."
      ]
    },
    {
      "cell_type": "code",
      "metadata": {
        "id": "yKCHJj1lXfII",
        "colab_type": "code",
        "colab": {
          "base_uri": "https://localhost:8080/",
          "height": 70
        },
        "outputId": "793f7d7e-6c9c-40c5-95fe-42f0f0340d29"
      },
      "source": [
        "num=int(input(\"enter max number\"))\n",
        "for i in range(1,num+1):\n",
        "  temp=i\n",
        "  rev=0\n",
        "  while (temp>0):\n",
        "    rem=temp%10\n",
        "    rev=(rev*10)+rem\n",
        "    temp=temp//10\n",
        "    if i==rev:\n",
        "      print(i,end=' ')"
      ],
      "execution_count": null,
      "outputs": [
        {
          "output_type": "stream",
          "text": [
            "enter max number999\n",
            "1 2 3 4 5 6 7 8 9 11 22 33 44 55 66 77 88 99 101 111 121 131 141 151 161 171 181 191 202 212 222 232 242 252 262 272 282 292 303 313 323 333 343 353 363 373 383 393 404 414 424 434 444 454 464 474 484 494 505 515 525 535 545 555 565 575 585 595 606 616 626 636 646 656 666 676 686 696 707 717 727 737 747 757 767 777 787 797 808 818 828 838 848 858 868 878 888 898 909 919 929 939 949 959 969 979 989 999 "
          ],
          "name": "stdout"
        }
      ]
    },
    {
      "cell_type": "markdown",
      "metadata": {
        "id": "-wmJ9ZNzZCL7",
        "colab_type": "text"
      },
      "source": [
        "9.\tPrint all Armstrong numbers between 1 to 1000. "
      ]
    },
    {
      "cell_type": "code",
      "metadata": {
        "id": "0Xo_kvpHZJp-",
        "colab_type": "code",
        "colab": {
          "base_uri": "https://localhost:8080/",
          "height": 50
        },
        "outputId": "e229aa39-b761-4c0f-e229-4964f9c36725"
      },
      "source": [
        "num=int(input(\"enter the max numbers\"))\n",
        "for i in range(1,num+1):\n",
        "  temp=i\n",
        "  sum=0\n",
        "  while (temp>0):\n",
        "    digit=temp%10\n",
        "    sum=sum+digit**3\n",
        "    temp=temp//10\n",
        "    if i==sum:\n",
        "      print(i,end=' ')"
      ],
      "execution_count": null,
      "outputs": [
        {
          "output_type": "stream",
          "text": [
            "enter the max numbers999\n",
            "1 64 125 153 216 370 371 407 729 "
          ],
          "name": "stdout"
        }
      ]
    },
    {
      "cell_type": "markdown",
      "metadata": {
        "id": "7P-mw5f5alSt",
        "colab_type": "text"
      },
      "source": [
        "10.\tWrite a Java program which iterates the integers from 1 to 100. For multiples of three print \"Fizz\" instead of the number and print \"Buzz\" for the multiples of five. When number is divided by both three and five, print \"fizz buzz\"."
      ]
    },
    {
      "cell_type": "code",
      "metadata": {
        "id": "6U1Yk9hQaxeA",
        "colab_type": "code",
        "colab": {
          "base_uri": "https://localhost:8080/",
          "height": 50
        },
        "outputId": "83dc6acb-353c-4982-8938-1b15dad92bce"
      },
      "source": [
        "a=int(input(\"enter the number\"))\n",
        "if a%3==0 and a%5==0:\n",
        "  print(\"fizz buzz\")\n",
        "elif a%3==0:\n",
        "  print(\"Fizz\")\n",
        "elif a%5==0:\n",
        "  print(\"Buzz\")"
      ],
      "execution_count": null,
      "outputs": [
        {
          "output_type": "stream",
          "text": [
            "enter the number15\n",
            "fizz buzz\n"
          ],
          "name": "stdout"
        }
      ]
    },
    {
      "cell_type": "markdown",
      "metadata": {
        "id": "cikPigqdbkzS",
        "colab_type": "text"
      },
      "source": [
        "A spider present at the bottom of the well of height H, needs to get out of it, using the slippery wall of the well. It decides to climb up the well; it goes up U meters and slips down D meters in one single step. So, in each step it covers (U-D) meters, and if the spider gets out of the well by covering U meters in the last step it doesn’t a slip back. For example, if the spider climbs up 5 meters and slips down by 3 meters in a single step, it covers (U - D) m in each step and 96 m in 48 steps, but in the 49th step it climbs up 5 m and reaches out of the well and it will not slip down and the step is counted as one step.     \n",
        "Input: Each test case will contain 3 integers ’H’ height of the well, next ’U’ meters climbs up in each step, and the last ’D’ meters slips down in each step.\n",
        "Output:  The number of steps 'N' required to get out of the well.\n",
        "Example 1:\n",
        " \tInput:\t\t\t\t\t\tOuput \n",
        "\t200 50 1\t\t\t\t\t    5\n",
        "\tExample 2:\n",
        " \tInput:\t\t\t\t\t\tOutput\n",
        "\t500 20 15\t\t\t\t\t   98\n"
      ]
    },
    {
      "cell_type": "code",
      "metadata": {
        "id": "J_EkkLARbya6",
        "colab_type": "code",
        "colab": {
          "base_uri": "https://localhost:8080/",
          "height": 84
        },
        "outputId": "31275087-d1a3-4a84-e85e-bd7b497703c8"
      },
      "source": [
        "h=int(input(\"enter height  \"))\n",
        "u=int(input(\"enter steps to move  \"))\n",
        "d=int(input(\"enter steps to slipped  \"))\n",
        "if d>=u and h>u:\n",
        "  print(\"-1\")\n",
        "elif h<=u:\n",
        "  print(\"1\")\n",
        "else:\n",
        "  p=(h-u)/(u-d)\n",
        "  p=p+2\n",
        "print(int(p))\n"
      ],
      "execution_count": 4,
      "outputs": [
        {
          "output_type": "stream",
          "text": [
            "enter height  500\n",
            "enter steps to move  20\n",
            "enter steps to slipped  15\n",
            "98\n"
          ],
          "name": "stdout"
        }
      ]
    }
  ]
}