{
  "nbformat": 4,
  "nbformat_minor": 0,
  "metadata": {
    "colab": {
      "name": "ASSIGNMENT2.ipynb",
      "provenance": [],
      "authorship_tag": "ABX9TyPiKSjnVCnVKdrbhXIbr8rv",
      "include_colab_link": true
    },
    "kernelspec": {
      "name": "python3",
      "display_name": "Python 3"
    }
  },
  "cells": [
    {
      "cell_type": "markdown",
      "metadata": {
        "id": "view-in-github",
        "colab_type": "text"
      },
      "source": [
        "<a href=\"https://colab.research.google.com/github/Neeraja4716/AI-PE/blob/master/ASSIGNMENT2.ipynb\" target=\"_parent\"><img src=\"https://colab.research.google.com/assets/colab-badge.svg\" alt=\"Open In Colab\"/></a>"
      ]
    },
    {
      "cell_type": "markdown",
      "metadata": {
        "id": "y5U_My7O8w33",
        "colab_type": "text"
      },
      "source": [
        "1. Write the program for given the lengths of three sides of a triangle. Calculate the area of the triangle."
      ]
    },
    {
      "cell_type": "code",
      "metadata": {
        "id": "hM42iZa-8xyU",
        "colab_type": "code",
        "colab": {
          "base_uri": "https://localhost:8080/",
          "height": 84
        },
        "outputId": "4451f8e9-d3c2-4303-e461-c2e3eaa81c93"
      },
      "source": [
        "a=float(input(\"enter the first side\"))\n",
        "b=float(input(\"enter the second side\"))\n",
        "c=float(input(\"enter the third side\"))\n",
        "s=(a+b+c)/2\n",
        "area=(s*(s-a)*(s-b)*(s-c))**0.5\n",
        "print(\"The area of the triangle is %0.2f\"%area)"
      ],
      "execution_count": null,
      "outputs": [
        {
          "output_type": "stream",
          "text": [
            "enter the first side20.\n",
            "enter the second side10\n",
            "enter the third side20\n",
            "The area of the triangle is 96.82\n"
          ],
          "name": "stdout"
        }
      ]
    },
    {
      "cell_type": "markdown",
      "metadata": {
        "id": "ebeCRHm39p9d",
        "colab_type": "text"
      },
      "source": [
        "2. Write the program for a given string from end user and check if the value is polindrome or not"
      ]
    },
    {
      "cell_type": "code",
      "metadata": {
        "id": "uy4xVSfeAEAs",
        "colab_type": "code",
        "colab": {
          "base_uri": "https://localhost:8080/",
          "height": 50
        },
        "outputId": "361efa89-1fd6-49ed-ee05-003e001ca0fb"
      },
      "source": [
        "str=input(\"enter the string:\")\n",
        "if(str==str[::-1]):\n",
        "  print(\"The string is polindrome\")\n",
        "else:\n",
        "  print(\"The string is not a polindrome\")"
      ],
      "execution_count": null,
      "outputs": [
        {
          "output_type": "stream",
          "text": [
            "enter the string:mom\n",
            "The string is polindrome\n"
          ],
          "name": "stdout"
        }
      ]
    },
    {
      "cell_type": "markdown",
      "metadata": {
        "id": "n2-G28A_B9z4",
        "colab_type": "text"
      },
      "source": [
        "3. Write a program that reads a year from the user and displays a message indicating whethere leap year or not."
      ]
    },
    {
      "cell_type": "code",
      "metadata": {
        "id": "BA7G7tyOC52Y",
        "colab_type": "code",
        "colab": {
          "base_uri": "https://localhost:8080/",
          "height": 50
        },
        "outputId": "b1f077ee-ce7d-4723-fbef-f78266c3b998"
      },
      "source": [
        "year=int(input(\"enter year to be checked:\"))\n",
        "if(year%4==0 and year%100!=0 or year%400==0):\n",
        "  print(\"The year is a leap year!\")\n",
        "else:\n",
        "  print(\"The year is not a leap year !\")"
      ],
      "execution_count": null,
      "outputs": [
        {
          "output_type": "stream",
          "text": [
            "enter year to be checked:2019\n",
            "The year is not a leap year !\n"
          ],
          "name": "stdout"
        }
      ]
    },
    {
      "cell_type": "markdown",
      "metadata": {
        "id": "52fl40MEF8sH",
        "colab_type": "text"
      },
      "source": [
        "4. Write the program for given string as input spaces \"\" with hyphens \"-\", and returns a string.\n",
        "Input: \"This program coverts spaces into hyphen\"\n",
        "Output: \"This-program-converts-spaces-into-hyphen\""
      ]
    },
    {
      "cell_type": "code",
      "metadata": {
        "id": "tQ_VnJvhHJLy",
        "colab_type": "code",
        "colab": {
          "base_uri": "https://localhost:8080/",
          "height": 67
        },
        "outputId": "e4b1ccee-bd0f-4572-8875-ee8af26aa8f2"
      },
      "source": [
        "str=input(\"Enter string\")\n",
        "str=str.replace(' ','-')\n",
        "print(\"Modified string: \")\n",
        "print(str)"
      ],
      "execution_count": null,
      "outputs": [
        {
          "output_type": "stream",
          "text": [
            "Enter string\"This program converts spaces into hyphens\"\n",
            "Modified string: \n",
            "\"This-program-converts-spaces-into-hyphens\"\n"
          ],
          "name": "stdout"
        }
      ]
    },
    {
      "cell_type": "markdown",
      "metadata": {
        "id": "GllBaQRxIE_L",
        "colab_type": "text"
      },
      "source": [
        "5.Write the program for given a string as input that accepts a comma separated sequence of words as input and prints the unique words in order in sorted form (alphanumerically)\n",
        "input: orange, white, red, cyan, green, magenta, cyan, pink, white\n",
        "Output: cyan, green, magenta, orange, pink, red, white "
      ]
    },
    {
      "cell_type": "code",
      "metadata": {
        "id": "Jqu1jqDWNu8i",
        "colab_type": "code",
        "colab": {
          "base_uri": "https://localhost:8080/",
          "height": 50
        },
        "outputId": "a1f9cf27-9619-4d45-d046-9c1d6e113376"
      },
      "source": [
        "items=[n for n in input(\"enter the input:\").split(',')]\n",
        "items.sort()\n",
        "print(','.join(items))\n"
      ],
      "execution_count": null,
      "outputs": [
        {
          "output_type": "stream",
          "text": [
            "enter the input:orange, white, red, cyan, green, magenta, cyan, pink, white\n",
            " cyan, cyan, green, magenta, pink, red, white, white,orange\n"
          ],
          "name": "stdout"
        }
      ]
    },
    {
      "cell_type": "markdown",
      "metadata": {
        "id": "ReChNem8Pmxt",
        "colab_type": "text"
      },
      "source": [
        "6. Write the program for the given information for their monthly salary. calculater whether they have to pay tax and if so, how much is that amount. print the result."
      ]
    },
    {
      "cell_type": "code",
      "metadata": {
        "id": "pQhg1CB8Pp_t",
        "colab_type": "code",
        "colab": {
          "base_uri": "https://localhost:8080/",
          "height": 50
        },
        "outputId": "faa15f20-fc30-4bad-dea0-03145790cc78"
      },
      "source": [
        "salary=int(input(\"enter monthly income:\"))\n",
        "if(salary<=250000):\n",
        "  tax=0\n",
        "  print(\"total amount:\",tax)\n",
        "elif (250000<=salary<=500000):\n",
        "  tax=((salary-250000)*(5/100))\n",
        "  print(\"total amount:\",tax)\n",
        "elif (500001<=salary<=750000):\n",
        "  tax=((salary-500001)*(10/100))\n",
        "  print(\"total amount:\",tax)\n",
        "elif (750001<=salary<=1000000):\n",
        "  tax=((salary-750001)*(15/100))\n",
        "  print(\"total amount:\",tax)\n",
        "elif (1000001<=salary<=1250000):\n",
        "  tax=((salary-1000001)*(20/100))\n",
        "  print(\"total amount:\",tax)\n",
        "elif (1250001<=salary<=1500000):\n",
        "  tax=((salary-1250001)*(25/100))\n",
        "  print(\"total amount:\",tax)\n",
        "else:\n",
        "  tax=((salary-1500000)*(30/100))\n",
        "  print(\"total amount:\",tax)"
      ],
      "execution_count": null,
      "outputs": [
        {
          "output_type": "stream",
          "text": [
            "enter monthly income:12500000\n",
            "total amount: 3300000.0\n"
          ],
          "name": "stdout"
        }
      ]
    },
    {
      "cell_type": "markdown",
      "metadata": {
        "id": "5kUwHeAfPqw4",
        "colab_type": "text"
      },
      "source": [
        "7. Write the program for a given list of integers as an arguments, and converts it into a single integer(return the integer)\n",
        "Input:[11,33,50]\n",
        "Output:113350"
      ]
    },
    {
      "cell_type": "code",
      "metadata": {
        "id": "wqKt6dviQ8yb",
        "colab_type": "code",
        "colab": {}
      },
      "source": [
        "def convert(list):\n",
        "  s=[str(i) for i in list]\n",
        "  res=int(\"\".join(s))\n",
        "  return(res)"
      ],
      "execution_count": null,
      "outputs": []
    },
    {
      "cell_type": "code",
      "metadata": {
        "id": "S2f1h3c5T_3Y",
        "colab_type": "code",
        "colab": {
          "base_uri": "https://localhost:8080/",
          "height": 34
        },
        "outputId": "065d389a-377d-47ca-b410-7256e10a7322"
      },
      "source": [
        "list=[11,33,50]\n",
        "print(convert(list))"
      ],
      "execution_count": null,
      "outputs": [
        {
          "output_type": "stream",
          "text": [
            "113350\n"
          ],
          "name": "stdout"
        }
      ]
    },
    {
      "cell_type": "markdown",
      "metadata": {
        "id": "bH3L2SyKUO9n",
        "colab_type": "text"
      },
      "source": [
        "8.Creat a program that reads duration from the user as a number of days, hours, minute, and seconds. Computer and display the total number of seconds represted by this duratioon."
      ]
    },
    {
      "cell_type": "code",
      "metadata": {
        "id": "Np7RXkMVVsJx",
        "colab_type": "code",
        "colab": {
          "base_uri": "https://localhost:8080/",
          "height": 101
        },
        "outputId": "b61e6a75-05c7-437c-b8dc-1d40f86f3b5d"
      },
      "source": [
        "days=int(input(\"days: \"))*3600*24\n",
        "hours=int(input(\"hours: \"))*3600\n",
        "minutes=int(input(\"minutes: \"))*60\n",
        "seconds=int(input(\"seconds: \"))\n",
        "time=days+hours+minutes+seconds\n",
        "print(\"The amount of seconds\",time)"
      ],
      "execution_count": null,
      "outputs": [
        {
          "output_type": "stream",
          "text": [
            "days: 5\n",
            "hours: 36\n",
            "minutes: 24\n",
            "seconds: 15\n",
            "The amount of seconds 563055\n"
          ],
          "name": "stdout"
        }
      ]
    },
    {
      "cell_type": "markdown",
      "metadata": {
        "id": "jr3aw4ymaliL",
        "colab_type": "text"
      },
      "source": [
        "9. Write the program for given three integeres, sort the numbers using (min)and (max) functions "
      ]
    },
    {
      "cell_type": "code",
      "metadata": {
        "id": "S9h8V-5iehxo",
        "colab_type": "code",
        "colab": {
          "base_uri": "https://localhost:8080/",
          "height": 84
        },
        "outputId": "32dcb0b7-fc04-4444-aa51-837ac4db4979"
      },
      "source": [
        "x=int(input(\"first number: \"))\n",
        "y=int(input(\"second number: \"))\n",
        "z=int(input(\"third number: \"))\n",
        "a1=min(x,y,z)\n",
        "a3=max(x,y,z)\n",
        "a2=(x+y+z)-a1-a3\n",
        "print(\"Number in sorted order: \",a1,a2,a3)"
      ],
      "execution_count": null,
      "outputs": [
        {
          "output_type": "stream",
          "text": [
            "first number: 9\n",
            "second number: 8\n",
            "third number: 4\n",
            "Number in sorted order:  4 8 9\n"
          ],
          "name": "stdout"
        }
      ]
    },
    {
      "cell_type": "markdown",
      "metadata": {
        "id": "ilgKxnU1hA_3",
        "colab_type": "text"
      },
      "source": [
        "10.write a program that reads a date from the user and computers its immediate successor. The data is the format yyyy-MM-DD. so,2020-04-15 will have the successor 2020-04-16"
      ]
    },
    {
      "cell_type": "code",
      "metadata": {
        "id": "6C5sQ0FSh7ph",
        "colab_type": "code",
        "colab": {
          "base_uri": "https://localhost:8080/",
          "height": 84
        },
        "outputId": "6909b8c4-cc13-418b-c8c0-fc9ef4415261"
      },
      "source": [
        "d=int(input(\"ENTER THE DAY: \"))\n",
        "m=int(input(\"ENTER THE MONTH: \"))\n",
        "y=int(input(\"ENTER THE YEAR: \"))\n",
        "if((y%4==0)and (y%100!=0))or (y%400==0):\n",
        "  if m==2:\n",
        "    d1=29\n",
        "  elif m==1 or m==3 or m==5 or m==7 or m==8 or m==10 or m==12:\n",
        "    d1=31\n",
        "  else:\n",
        "    d1=30\n",
        "else:\n",
        "  if m==2:\n",
        "    d1=28\n",
        "  elif m==1 or m==3 or m==5 or m==7 or m==8 or m==10 or m==12:\n",
        "    d1=31\n",
        "  else:\n",
        "    d1=30\n",
        "if d==31 and m==12:\n",
        "  d=1\n",
        "  m=1\n",
        "  y=y+1\n",
        "elif d1-d==0:\n",
        "  m=m+1\n",
        "  d=1\n",
        "else:\n",
        "  d=d+1\n",
        "print(\"NEXT DAY IS:\",d,\"/\",m,\"/\",y) "
      ],
      "execution_count": null,
      "outputs": [
        {
          "output_type": "stream",
          "text": [
            "ENTER THE DAY: 15\n",
            "ENTER THE MONTH: 06\n",
            "ENTER THE YEAR: 2000\n",
            "NEXT DAY IS: 16 / 6 / 2000\n"
          ],
          "name": "stdout"
        }
      ]
    },
    {
      "cell_type": "markdown",
      "metadata": {
        "id": "bUzi5JkT5LVo",
        "colab_type": "text"
      },
      "source": [
        "11. write the program to print the product of the given list"
      ]
    },
    {
      "cell_type": "code",
      "metadata": {
        "id": "kqZSVzzf55m-",
        "colab_type": "code",
        "colab": {
          "base_uri": "https://localhost:8080/",
          "height": 34
        },
        "outputId": "166fef18-40d2-4bec-ff1b-327baadc45a8"
      },
      "source": [
        "from functools import reduce\n",
        "list=[45,3,2,89,1,10,7,72]\n",
        "result=reduce ((lambda x,y:x*y),list)\n",
        "print(\"Result=\",result)"
      ],
      "execution_count": null,
      "outputs": [
        {
          "output_type": "stream",
          "text": [
            "Result= 121111200\n"
          ],
          "name": "stdout"
        }
      ]
    },
    {
      "cell_type": "markdown",
      "metadata": {
        "id": "Q89ZhACD7Lvx",
        "colab_type": "text"
      },
      "source": [
        "12. Write the program to compute given Num_List=[5,6,8,34,89,1] to get desired output:Out_list=[11,14,42,123,90]"
      ]
    },
    {
      "cell_type": "code",
      "metadata": {
        "id": "SfP74Nng8Qiq",
        "colab_type": "code",
        "colab": {
          "base_uri": "https://localhost:8080/",
          "height": 50
        },
        "outputId": "141b7a8b-421b-424a-b092-908b9a0c6f84"
      },
      "source": [
        "Num_list=[5,6,8,34,89,1]\n",
        "print(\"The original list:\"+str(Num_list))\n",
        "res=[Num_list[i]+Num_list[i+1] for i in range (len(Num_list)-1)]\n",
        "print(\"Out_list:\"+str(res))"
      ],
      "execution_count": null,
      "outputs": [
        {
          "output_type": "stream",
          "text": [
            "The original list:[5, 6, 8, 34, 89, 1]\n",
            "Out_list:[11, 14, 42, 123, 90]\n"
          ],
          "name": "stdout"
        }
      ]
    },
    {
      "cell_type": "markdown",
      "metadata": {
        "id": "NzzIg1Gh8Y6Q",
        "colab_type": "text"
      },
      "source": [
        "13. Write the program to compute given Num_tuple=(5,6,8,3,9,1) to get desired output:Out_list[5,30,240,720,6480,6480]"
      ]
    },
    {
      "cell_type": "code",
      "metadata": {
        "id": "I1mOuLaj89Sn",
        "colab_type": "code",
        "colab": {
          "base_uri": "https://localhost:8080/",
          "height": 50
        },
        "outputId": "25293ddb-a989-412a-ee39-448d4bc92732"
      },
      "source": [
        "input=[(1,5),(5,6),(30,8),(240,3),(720,9),(6480,1)]\n",
        "output=[]\n",
        "for elem in input:\n",
        "  temp=elem[0]*elem[1]\n",
        "  output.append(temp)\n",
        "print(\"Out_list of tuple:\")\n",
        "print(output)"
      ],
      "execution_count": null,
      "outputs": [
        {
          "output_type": "stream",
          "text": [
            "Out_list of tuple:\n",
            "[5, 30, 240, 720, 6480, 6480]\n"
          ],
          "name": "stdout"
        }
      ]
    },
    {
      "cell_type": "markdown",
      "metadata": {
        "id": "m3HVx13-8-BS",
        "colab_type": "text"
      },
      "source": [
        "14. Write a python code that takes a number and returns a list of its digits. so for 586392 it should return [5,8,6,3,9,2]"
      ]
    },
    {
      "cell_type": "code",
      "metadata": {
        "id": "n7wV9uUi990f",
        "colab_type": "code",
        "colab": {
          "base_uri": "https://localhost:8080/",
          "height": 50
        },
        "outputId": "7fd0e765-5586-4c34-bf6a-4f5e8e64e221"
      },
      "source": [
        "input_number= input(\"enter the numbers: \")\n",
        "list1=[]\n",
        "for i in range(len(input_number)):\n",
        "  list1.insert(i,input_number[i])\n",
        "print(list1)"
      ],
      "execution_count": null,
      "outputs": [
        {
          "output_type": "stream",
          "text": [
            "enter the numbers: 5863192\n",
            "['5', '8', '6', '3', '1', '9', '2']\n"
          ],
          "name": "stdout"
        }
      ]
    },
    {
      "cell_type": "markdown",
      "metadata": {
        "id": "wGXxyN6U98ZI",
        "colab_type": "text"
      },
      "source": [
        "15. Write a program that finds the longest palindromic substring of a given string"
      ]
    },
    {
      "cell_type": "code",
      "metadata": {
        "id": "o2Bhq0G4-UAi",
        "colab_type": "code",
        "colab": {
          "base_uri": "https://localhost:8080/",
          "height": 34
        },
        "outputId": "4488085d-a706-4d9a-8f9b-17625d7b5075"
      },
      "source": [
        "class solution(object):\n",
        "     def longestpalindrome(self,s):\n",
        "         dp=[[False for i in range(len(s))] for i in range(len(s))]\n",
        "         for i in range(len(s)):\n",
        "             dp[i][i]=True \n",
        "         maxlength=1\n",
        "         start=0\n",
        "         for l in range(2,len(s)+1):\n",
        "            for i in range(len(s)-l+1):\n",
        "               end=i+l\n",
        "               if l==2:\n",
        "                 if s[i]==s[end-1]:\n",
        "                    dp[i][end-1]=True \n",
        "                    maxlength=l\n",
        "                    start=i\n",
        "               else:\n",
        "                 if s[i]==s[end-1] and dp[i+1][end-2]:\n",
        "                        dp[i][end-1]=True \n",
        "                        maxlength=l \n",
        "                        start=i \n",
        "         return s[start:start+maxlength]\n",
        "ob1=solution()\n",
        "print(ob1.longestpalindrome(\"abbabbca\"))"
      ],
      "execution_count": null,
      "outputs": [
        {
          "output_type": "stream",
          "text": [
            "bbabb\n"
          ],
          "name": "stdout"
        }
      ]
    },
    {
      "cell_type": "markdown",
      "metadata": {
        "id": "IfNeJbQiThOr",
        "colab_type": "text"
      },
      "source": [
        "16. Write the program for the given two binary strings, A(of length of 10) and B (0f length 5), Output1 if B is a substring of A and 0 otherwise"
      ]
    },
    {
      "cell_type": "code",
      "metadata": {
        "id": "ltd1lXbyThqY",
        "colab_type": "code",
        "colab": {
          "base_uri": "https://localhost:8080/",
          "height": 67
        },
        "outputId": "35f10f1e-55c2-4d25-d243-c3bf4b853ceb"
      },
      "source": [
        "a=input(\"enter the string1:\")\n",
        "b=input(\"enter the string2:\")\n",
        "if b in a :\n",
        "  print(\"output is: 1 \")\n",
        "else:\n",
        "  print(\"output is: 0\")"
      ],
      "execution_count": null,
      "outputs": [
        {
          "output_type": "stream",
          "text": [
            "enter the string1:1110111011\n",
            "enter the string2:10011\n",
            "output is: 0\n"
          ],
          "name": "stdout"
        }
      ]
    },
    {
      "cell_type": "markdown",
      "metadata": {
        "id": "kiWbE8LfYqN7",
        "colab_type": "text"
      },
      "source": [
        "17. Write the program for the given two vessels, one of which can accommodate a liters of water and the other-b liters of water, determine the number of steps required to obtain exactly c liters of water in one of the vessels "
      ]
    },
    {
      "cell_type": "code",
      "metadata": {
        "id": "jCjN1KWXYqyF",
        "colab_type": "code",
        "colab": {
          "base_uri": "https://localhost:8080/",
          "height": 168
        },
        "outputId": "4f97d643-6d9e-47e3-9a6f-b0daddbdd845"
      },
      "source": [
        "def gcd(a,b):\n",
        "\n",
        "    if b==0: \n",
        "\n",
        "        return a \n",
        "\n",
        "    return gcd(b,a%b) \n",
        "\n",
        "def countsteps(a,b,c): \n",
        "\n",
        "    v1=b\n",
        "\n",
        "    v2=0\n",
        "\n",
        "    count=1\n",
        "\n",
        "    while ((v1 is not c) and (v2 is not c)): \n",
        "\n",
        "        temp=min(v1,a-v2) \n",
        "\n",
        "        v2=v2+temp \n",
        "\n",
        "        v1=v1-temp \n",
        "\n",
        "        count=count+1\n",
        "\n",
        "        if ((v2==c)or(v1==c)): \n",
        "\n",
        "            break\n",
        "\n",
        "        if v1==0: \n",
        "\n",
        "            v1=b \n",
        "\n",
        "            count=count+1\n",
        "\n",
        "        if v2==a: \n",
        "\n",
        "            v2=0\n",
        "\n",
        "            count=count+1\n",
        "\n",
        "    return count \n",
        "\n",
        "def ispossible(a,b,c): \n",
        "\n",
        "    if a>b: \n",
        "\n",
        "        temp=a \n",
        "\n",
        "        a=b \n",
        "\n",
        "        b=temp \n",
        "\n",
        "    if c>b: \n",
        "\n",
        "        return -1\n",
        "\n",
        "    if (c%(gcd(b,a)) is not 0): \n",
        "\n",
        "        return -1\n",
        "\n",
        "    return(min(countsteps(b,a,c),countsteps(a,b,c)))\n",
        "\n",
        "t=int(input(\"Enter no of testcases : \"))\n",
        "\n",
        "for i in range(t):\n",
        "\n",
        "  a=int(input(\"Enter capacity of vessel a : \"))\n",
        "\n",
        "  b=int(input(\"Enter capacity of vessel b : \"))\n",
        "\n",
        "  c=int(input(\"Enter capacity to be obtained :\"))\n",
        "\n",
        "  print(\"Minimum number of steps required is : \",ispossible(a,b,c))"
      ],
      "execution_count": 2,
      "outputs": [
        {
          "output_type": "stream",
          "text": [
            "Enter no of testcases : 2\n",
            "Enter capacity of vessel a : 5\n",
            "Enter capacity of vessel b : 2\n",
            "Enter capacity to be obtained :3\n",
            "Minimum number of steps required is :  2\n",
            "Enter capacity of vessel a : 2\n",
            "Enter capacity of vessel b : 3\n",
            "Enter capacity to be obtained :4\n",
            "Minimum number of steps required is :  -1\n"
          ],
          "name": "stdout"
        }
      ]
    }
  ]
}